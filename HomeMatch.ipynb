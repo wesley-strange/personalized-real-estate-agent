{
 "cells": [
  {
   "cell_type": "markdown",
   "id": "a108af04",
   "metadata": {},
   "source": [
    "This is a starter notebook for the project, you'll have to import the libraries you'll need, you can find a list of the ones available in this workspace in the requirements.txt file in this workspace. "
   ]
  },
  {
   "cell_type": "code",
   "execution_count": 1,
   "id": "6554fd4c",
   "metadata": {},
   "outputs": [],
   "source": [
    "import os\n",
    "import openai\n",
    "from langchain.vectorstores import Chroma\n",
    "from langchain.embeddings.openai import OpenAIEmbeddings\n",
    "from langchain.document_loaders.csv_loader import CSVLoader\n",
    "from langchain.text_splitter import CharacterTextSplitter\n",
    "from langchain.llms import OpenAI\n",
    "from langchain.memory import ConversationSummaryMemory, ConversationBufferMemory, CombinedMemory, ChatMessageHistory\n",
    "from typing import Any, Dict\n",
    "from langchain.chains import ConversationChain\n",
    "from langchain.prompts import PromptTemplate\n",
    "\n",
    "os.environ['OPENAI_API_KEY']=\"YOUR_OPENAI_API_KEY\"\n",
    "openai.api_key = os.environ['OPENAI_API_KEY']"
   ]
  },
  {
   "cell_type": "code",
   "execution_count": 2,
   "id": "1b132cca",
   "metadata": {},
   "outputs": [],
   "source": [
    "# Load the documents\n",
    "file_path = \"listings.csv\"\n",
    "loader = CSVLoader(file_path=file_path)\n",
    "docs = loader.load()"
   ]
  },
  {
   "cell_type": "code",
   "execution_count": 3,
   "id": "39668e54",
   "metadata": {},
   "outputs": [],
   "source": [
    "# Split the documents into sentences\n",
    "splitter = CharacterTextSplitter(chunk_size=1000, chunk_overlap=0)\n",
    "split_docs = splitter.split_documents(docs)"
   ]
  },
  {
   "cell_type": "code",
   "execution_count": 4,
   "id": "e3b51f1f",
   "metadata": {},
   "outputs": [],
   "source": [
    "# Create the vector store\n",
    "embeddings = OpenAIEmbeddings()\n",
    "db = Chroma.from_documents(split_docs, embeddings)"
   ]
  },
  {
   "cell_type": "code",
   "execution_count": 5,
   "id": "338dec62",
   "metadata": {},
   "outputs": [
    {
     "name": "stderr",
     "output_type": "stream",
     "text": [
      "/opt/conda/lib/python3.10/site-packages/langchain/llms/openai.py:202: UserWarning: You are trying to use a chat model. This way of initializing it is no longer supported. Instead, please use: `from langchain.chat_models import ChatOpenAI`\n",
      "  warnings.warn(\n",
      "/opt/conda/lib/python3.10/site-packages/langchain/llms/openai.py:790: UserWarning: You are trying to use a chat model. This way of initializing it is no longer supported. Instead, please use: `from langchain.chat_models import ChatOpenAI`\n",
      "  warnings.warn(\n"
     ]
    }
   ],
   "source": [
    "# Create the LLM\n",
    "model_name = \"gpt-3.5-turbo\"\n",
    "llm = OpenAI(model_name=model_name, temperature=0, max_tokens=2000)"
   ]
  },
  {
   "cell_type": "code",
   "execution_count": 6,
   "id": "0f51fd39",
   "metadata": {},
   "outputs": [],
   "source": [
    "questions = [   \n",
    "    \"How big do you want your house to be?\",\n",
    "    \"What are 3 most important things for you in choosing this property?\", \n",
    "    \"Which amenities would you like?\", \n",
    "    \"Which transportation options are important to you?\",\n",
    "    \"How urban do you want your neighborhood to be?\",\n",
    "    \"What is your price range?\",\n",
    "    \"How many bathrooms would be ideal?\",\n",
    "    \"What is the minimum house size?\",\n",
    "    \"How many bedrooms do you need?\"\n",
    "]\n",
    "\n",
    "answers = [\n",
    "    \"A comfortable three-bedroom house with a spacious kitchen and a cozy living room.\",\n",
    "    \"A quiet neighborhood, open floor plan, and views from backyard.\",\n",
    "    \"A backyard for gardening, stainless steel appliances, master suite with a walk-in closet.\",\n",
    "    \"Easy access to a reliable bus line, proximity to a major highway, and bike-friendly roads.\",\n",
    "    \"A balance between suburban tranquility and access to urban amenities like restaurants and local shops.\",\n",
    "    \"Trying to keep it less than $1,000,000.\",\n",
    "    \"2 bathrooms is fine, 3 bathrooms would be great.\",\n",
    "    \"At least 1800 square feet.\",\n",
    "    \"3 or 4 bedrooms\"\n",
    "]"
   ]
  },
  {
   "cell_type": "code",
   "execution_count": 7,
   "id": "94adece3",
   "metadata": {},
   "outputs": [],
   "source": [
    "history = ChatMessageHistory()\n",
    "history.add_user_message(f\"\"\"You are AI that will recommend user a new home based on their answers to questions about their home preferences. Ask user {len(questions)} questions\"\"\")\n",
    "for i in range(len(questions)):\n",
    "    history.add_ai_message(questions[i])\n",
    "    history.add_user_message(answers[i])"
   ]
  },
  {
   "cell_type": "code",
   "execution_count": 8,
   "id": "6b2c634b",
   "metadata": {},
   "outputs": [],
   "source": [
    "max_rating = 100\n",
    "\n",
    "summary_memory = ConversationSummaryMemory(\n",
    "    llm=llm,\n",
    "    memory_key=\"recommendation_summary\",\n",
    "    input_key=\"input\",\n",
    "    buffer=f\"The human answered {len(questions)} personal questions. Use them to rate, from 1 to {max_rating}, how much they like a home recommendation.\",\n",
    "    return_messages=True\n",
    ")\n",
    "\n",
    "class MementoBufferMemory(ConversationBufferMemory):\n",
    "    def save_context(self, inputs: Dict[str, Any], outputs: Dict[str, str]) -> None:\n",
    "        input_str, output_str = self._get_input_output(inputs, outputs)\n",
    "        self.chat_memory.add_ai_message(output_str)\n",
    "        \n",
    "conversational_memory = MementoBufferMemory(\n",
    "    chat_memory=history,\n",
    "    memory_key=\"questions_and_answers\",\n",
    "    input_key=\"input\"\n",
    ")\n",
    "\n",
    "memory = CombinedMemory(memories=[conversational_memory, summary_memory])"
   ]
  },
  {
   "cell_type": "code",
   "execution_count": 9,
   "id": "e1a20966",
   "metadata": {},
   "outputs": [],
   "source": [
    "user_responses = []\n",
    "for m in conversational_memory.buffer_as_messages:\n",
    "    if m.type == \"human\":\n",
    "        user_responses.append(m.content)\n",
    "\n",
    "user_preferences = \" \".join(user_responses)"
   ]
  },
  {
   "cell_type": "code",
   "execution_count": 10,
   "id": "56d5e0a5",
   "metadata": {},
   "outputs": [],
   "source": [
    "similar_docs = db.similarity_search(user_preferences, k=5)"
   ]
  },
  {
   "cell_type": "code",
   "execution_count": 11,
   "id": "289509e1",
   "metadata": {},
   "outputs": [],
   "source": [
    "possible_recommended_homes = \"\\n############\\n\".join([f\"- {doc.page_content}\" for doc in similar_docs])"
   ]
  },
  {
   "cell_type": "code",
   "execution_count": 12,
   "id": "9068fcc8",
   "metadata": {},
   "outputs": [],
   "source": [
    "RECOMMENDER_TEMPLATE = \"\"\"The following is a friendly conversation between a human and an AI Real Estate Agent. The AI follows human instructions and provides home ratings for a human based on their home preferences. \n",
    "\n",
    "Summary of Recommendations:\n",
    "{recommendation_summary}\n",
    "Buyer's Preferences Q&A:\n",
    "{questions_and_answers}\n",
    "Recommended Homes:\n",
    "{possible_recommended_homes}\n",
    "Human: {input}\n",
    "AI:\"\"\"\n",
    "\n",
    "PROMPT = PromptTemplate.from_template(RECOMMENDER_TEMPLATE).partial(possible_recommended_homes=possible_recommended_homes)\n",
    "\n",
    "recommender = ConversationChain(llm=llm, verbose=True, memory=memory, prompt=PROMPT)"
   ]
  },
  {
   "cell_type": "code",
   "execution_count": 13,
   "id": "3d7a183e",
   "metadata": {},
   "outputs": [],
   "source": [
    "query = \"\"\"\n",
    "Please rank (1-5) and score (0-100) each of the 5 listings based on the buyer's preferences. Provide the output in the following format:\n",
    "\n",
    "Rank: [Rank]\n",
    "Score: [Score]\n",
    "Neighborhood: [Neighborhood]\n",
    "Price: [Price]\n",
    "Bedrooms: [Bedrooms]\n",
    "Bathrooms: [Bathrooms]\n",
    "Size (sqft): [Size (sqft)]\n",
    "Description: [Personalized description of the listing based on buyer's preferences. Unique, appealing, tailored to preferences.]\n",
    "\"\"\""
   ]
  },
  {
   "cell_type": "code",
   "execution_count": 14,
   "id": "7f6c5e46",
   "metadata": {},
   "outputs": [
    {
     "name": "stdout",
     "output_type": "stream",
     "text": [
      "\n",
      "\n",
      "\u001b[1m> Entering new ConversationChain chain...\u001b[0m\n",
      "Prompt after formatting:\n",
      "\u001b[32;1m\u001b[1;3mThe following is a friendly conversation between a human and an AI Real Estate Agent. The AI follows human instructions and provides home ratings for a human based on their home preferences. \n",
      "\n",
      "Summary of Recommendations:\n",
      "[SystemMessage(content='The human answered 9 personal questions. Use them to rate, from 1 to 100, how much they like a home recommendation.')]\n",
      "Buyer's Preferences Q&A:\n",
      "Human: You are AI that will recommend user a new home based on their answers to questions about their home preferences. Ask user 9 questions\n",
      "AI: How big do you want your house to be?\n",
      "Human: A comfortable three-bedroom house with a spacious kitchen and a cozy living room.\n",
      "AI: What are 3 most important things for you in choosing this property?\n",
      "Human: A quiet neighborhood, open floor plan, and views from backyard.\n",
      "AI: Which amenities would you like?\n",
      "Human: A backyard for gardening, stainless steel appliances, master suite with a walk-in closet.\n",
      "AI: Which transportation options are important to you?\n",
      "Human: Easy access to a reliable bus line, proximity to a major highway, and bike-friendly roads.\n",
      "AI: How urban do you want your neighborhood to be?\n",
      "Human: A balance between suburban tranquility and access to urban amenities like restaurants and local shops.\n",
      "AI: What is your price range?\n",
      "Human: Trying to keep it less than $1,000,000.\n",
      "AI: How many bathrooms would be ideal?\n",
      "Human: 2 bathrooms is fine, 3 bathrooms would be great.\n",
      "AI: What is the minimum house size?\n",
      "Human: At least 1800 square feet.\n",
      "AI: How many bedrooms do you need?\n",
      "Human: 3 or 4 bedrooms\n",
      "Recommended Homes:\n",
      "- Neighborhood: Sunny Suburbia\n",
      "Price: $500,000\n",
      "Bedrooms: 3\n",
      "Bathrooms: 2\n",
      "House Size: 1,800 sqft\n",
      "Description: Enjoy suburban living in this 3-bedroom, 2-bathroom home with modern amenities and a spacious backyard. The open floor plan features a gourmet kitchen with quartz countertops and stainless steel appliances. The living room offers vaulted ceilings and natural light. Retreat to the master suite with a private bathroom and walk-in closet. Enjoy outdoor living on the patio with views of the landscaped garden.\n",
      "Neighborhood Description: Sunny Suburbia is a family-friendly neighborhood with parks, playgrounds, and community events. Explore local shops and restaurants or take a short drive to nearby beaches and attractions. With top-rated schools and easy access to highways, Sunny Suburbia offers a balanced lifestyle for growing families.\n",
      "############\n",
      "- Neighborhood: Urban Center\n",
      "Price: $750,000\n",
      "Bedrooms: 3\n",
      "Bathrooms: 3\n",
      "House Size: 2,000 sqft\n",
      "Description: Discover modern living in this sleek 3-bedroom, 3-bathroom townhome located in a vibrant urban center. The open floor plan features high ceilings and designer finishes throughout. The gourmet kitchen includes quartz countertops and premium appliances. Relax in the master suite with a private balcony and spa-like bathroom. Enjoy outdoor living on the rooftop terrace with city views.\n",
      "Neighborhood Description: Urban Center is surrounded by trendy cafes, boutiques, and cultural venues. Explore local parks and bike paths or attend neighborhood events and festivals. With easy access to public transportation and highways, Urban Center offers convenient urban living.\n",
      "############\n",
      "- Neighborhood: Cozy Cottage\n",
      "Price: $400,000\n",
      "Bedrooms: 2\n",
      "Bathrooms: 1\n",
      "House Size: 1,000 sqft\n",
      "Description: Welcome to this charming 2-bedroom, 1-bathroom cottage nestled in a quiet neighborhood. The cozy living room features a fireplace and hardwood floors. The updated kitchen offers granite countertops and a breakfast bar. Relax in the spacious backyard with a patio and garden area. Ideal for first-time homebuyers or those looking to downsize.\n",
      "Neighborhood Description: Cozy Cottage is a family-friendly neighborhood with tree-lined streets and community parks. Explore local shops and cafes or take a leisurely walk through nearby trails. With easy access to schools and amenities, Cozy Cottage provides a warm and inviting atmosphere.\n",
      "############\n",
      "- Neighborhood: Suburban Sanctuary\n",
      "Price: $850,000\n",
      "Bedrooms: 4\n",
      "Bathrooms: 3\n",
      "House Size: 2,200 sqft\n",
      "Description: Discover suburban living in this spacious 4-bedroom, 3-bathroom home surrounded by mature trees and green spaces. The open floor plan features a gourmet kitchen with granite countertops and stainless steel appliances. The living room offers a cozy fireplace and built-in shelves. Retreat to the master suite with a private bathroom and walk-in closet. Enjoy outdoor living on the covered patio with views of the landscaped backyard.\n",
      "Neighborhood Description: Suburban Sanctuary is a family-friendly neighborhood with top-rated schools and community parks. Explore local shops and restaurants or attend neighborhood events and block parties. With easy access to highways and commuter routes, Suburban Sanctuary offers a peaceful retreat from city life.\n",
      "############\n",
      "- Neighborhood: Garden Oasis\n",
      "Price: $600,000\n",
      "Bedrooms: 3\n",
      "Bathrooms: 2\n",
      "House Size: 1,800 sqft\n",
      "Description: Welcome to Garden Oasis, where tranquility meets comfort in this 3-bedroom, 2-bathroom home. The bright and airy living spaces feature hardwood floors and designer touches throughout. The updated kitchen offers granite countertops and stainless steel appliances. Relax in the master suite with a private bathroom and walk-in closet. Enjoy outdoor living on the deck overlooking the landscaped garden.\n",
      "Neighborhood Description: Garden Oasis is known for its tree-lined streets and community atmosphere. Explore local shops and cafes or take a leisurely walk through nearby parks. With easy access to schools and amenities, Garden Oasis offers a family-friendly environment and a place to call home.\n",
      "Human: \n",
      "Please rank (1-5) and score (0-100) each of the 5 listings based on the buyer's preferences. Provide the output in the following format:\n",
      "\n",
      "Rank: [Rank]\n",
      "Score: [Score]\n",
      "Neighborhood: [Neighborhood]\n",
      "Price: [Price]\n",
      "Bedrooms: [Bedrooms]\n",
      "Bathrooms: [Bathrooms]\n",
      "Size (sqft): [Size (sqft)]\n",
      "Description: [Personalized description of the listing based on buyer's preferences. Unique, appealing, tailored to preferences.]\n",
      "\n",
      "AI:\u001b[0m\n",
      "\n",
      "\u001b[1m> Finished chain.\u001b[0m\n",
      "Rank: 1\n",
      "Score: 90\n",
      "Neighborhood: Suburban Sanctuary\n",
      "Price: $850,000\n",
      "Bedrooms: 4\n",
      "Bathrooms: 3\n",
      "Size (sqft): 2,200\n",
      "Description: Embrace suburban tranquility in this spacious 4-bedroom, 3-bathroom home surrounded by mature trees and green spaces. The open floor plan features a gourmet kitchen with granite countertops and stainless steel appliances, perfect for your culinary adventures. The cozy fireplace in the living room and the covered patio overlooking the landscaped backyard provide the ideal setting for relaxation and outdoor entertaining. Retreat to the master suite with a private bathroom and walk-in closet, offering a peaceful sanctuary within your home.\n",
      "\n",
      "Rank: 2\n",
      "Score: 85\n",
      "Neighborhood: Garden Oasis\n",
      "Price: $600,000\n",
      "Bedrooms: 3\n",
      "Bathrooms: 2\n",
      "Size (sqft): 1,800\n",
      "Description: Step into Garden Oasis, where tranquility and comfort await in this 3-bedroom, 2-bathroom home. The bright and airy living spaces with hardwood floors and designer touches throughout create a welcoming atmosphere. The updated kitchen with granite countertops and stainless steel appliances is a chef's dream. Relax in the master suite with a private bathroom and walk-in closet, providing a retreat within your home. Enjoy outdoor living on the deck overlooking the landscaped garden, perfect for enjoying the peaceful surroundings.\n",
      "\n",
      "Rank: 3\n",
      "Score: 80\n",
      "Neighborhood: Sunny Suburbia\n",
      "Price: $500,000\n",
      "Bedrooms: 3\n",
      "Bathrooms: 2\n",
      "Size (sqft): 1,800\n",
      "Description: Experience suburban living at its finest in this 3-bedroom, 2-bathroom home with modern amenities and a spacious backyard. The open floor plan with a gourmet kitchen featuring quartz countertops and stainless steel appliances is perfect for entertaining. The vaulted ceilings and natural light in the living room create a bright and inviting space. Retreat to the master suite with a private bathroom and walk-in closet for a peaceful escape. Enjoy outdoor living on the patio with views of the landscaped garden, providing a serene setting for relaxation.\n",
      "\n",
      "Rank: 4\n",
      "Score: 75\n",
      "Neighborhood: Urban Center\n",
      "Price: $750,000\n",
      "Bedrooms: 3\n",
      "Bathrooms: 3\n",
      "Size (sqft): 2,000\n",
      "Description: Dive into modern living in this sleek 3-bedroom, 3-bathroom townhome located in a vibrant urban center. The high ceilings and designer finishes throughout the open floor plan create a stylish and contemporary living space. The gourmet kitchen with quartz countertops and premium appliances is a chef's delight. Relax in the master suite with a private balcony and spa-like bathroom, offering a luxurious retreat within your home. Enjoy outdoor living on the rooftop terrace with city views, perfect for entertaining and enjoying the urban surroundings.\n",
      "\n",
      "Rank: 5\n",
      "Score: 70\n",
      "Neighborhood: Cozy Cottage\n",
      "Price: $400,000\n",
      "Bedrooms: 2\n",
      "Bathrooms: 1\n",
      "Size (sqft): 1,000\n",
      "Description: Welcome to the charming Cozy Cottage, a 2-bedroom, 1-bathroom home nestled in a quiet neighborhood. The cozy living room with a fireplace and hardwood floors creates a warm and inviting atmosphere. The updated kitchen with granite countertops and a breakfast bar is perfect for casual dining. Relax in the spacious backyard with a patio and garden area, ideal for outdoor gatherings and enjoying the peaceful surroundings. This home is perfect for first-time homebuyers or those looking to downsize.\n"
     ]
    }
   ],
   "source": [
    "prediction = recommender.predict(input=query)\n",
    "print(prediction)"
   ]
  },
  {
   "cell_type": "code",
   "execution_count": null,
   "id": "84da980d",
   "metadata": {},
   "outputs": [],
   "source": []
  }
 ],
 "metadata": {
  "kernelspec": {
   "display_name": "Python 3 (ipykernel)",
   "language": "python",
   "name": "python3"
  },
  "language_info": {
   "codemirror_mode": {
    "name": "ipython",
    "version": 3
   },
   "file_extension": ".py",
   "mimetype": "text/x-python",
   "name": "python",
   "nbconvert_exporter": "python",
   "pygments_lexer": "ipython3",
   "version": "3.10.11"
  }
 },
 "nbformat": 4,
 "nbformat_minor": 5
}
